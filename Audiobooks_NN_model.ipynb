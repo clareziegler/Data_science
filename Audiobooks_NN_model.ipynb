{
 "cells": [
  {
   "cell_type": "code",
   "execution_count": 1,
   "metadata": {},
   "outputs": [],
   "source": [
    "import numpy as np\n",
    "import tensorflow as tf"
   ]
  },
  {
   "cell_type": "code",
   "execution_count": 2,
   "metadata": {},
   "outputs": [],
   "source": [
    "#Load data\n",
    "npz = np.load('Audiobooks_data_train.npz')\n",
    "\n",
    "train_inputs = npz['inputs'].astype(np.float)\n",
    "train_targets = npz['targets'].astype(np.int)\n",
    "\n",
    "npz = np.load('Audiobooks_data_validation.npz')\n",
    "validation_inputs, validation_targets = npz['inputs'].astype(np.float), npz['targets'].astype(np.int)\n",
    "\n",
    "npz = np.load('Audiobooks_data_test.npz')\n",
    "test_inputs, test_targets = npz['inputs'].astype(np.float), npz['targets'].astype(np.int)"
   ]
  },
  {
   "cell_type": "code",
   "execution_count": 3,
   "metadata": {},
   "outputs": [
    {
     "name": "stdout",
     "output_type": "stream",
     "text": [
      "Epoch 1/100\n",
      "36/36 - 0s - loss: 0.5727 - accuracy: 0.7038 - val_loss: 0.5110 - val_accuracy: 0.7069\n",
      "Epoch 2/100\n",
      "36/36 - 0s - loss: 0.4659 - accuracy: 0.7460 - val_loss: 0.4433 - val_accuracy: 0.7472\n",
      "Epoch 3/100\n",
      "36/36 - 0s - loss: 0.4173 - accuracy: 0.7795 - val_loss: 0.4136 - val_accuracy: 0.7763\n",
      "Epoch 4/100\n",
      "36/36 - 0s - loss: 0.3913 - accuracy: 0.7921 - val_loss: 0.3972 - val_accuracy: 0.7942\n",
      "Epoch 5/100\n",
      "36/36 - 0s - loss: 0.3724 - accuracy: 0.8027 - val_loss: 0.3799 - val_accuracy: 0.8166\n",
      "Epoch 6/100\n",
      "36/36 - 0s - loss: 0.3622 - accuracy: 0.7988 - val_loss: 0.3670 - val_accuracy: 0.8009\n",
      "Epoch 7/100\n",
      "36/36 - 0s - loss: 0.3538 - accuracy: 0.8078 - val_loss: 0.3625 - val_accuracy: 0.7987\n",
      "Epoch 8/100\n",
      "36/36 - 0s - loss: 0.3474 - accuracy: 0.8122 - val_loss: 0.3600 - val_accuracy: 0.7964\n",
      "Epoch 9/100\n",
      "36/36 - 0s - loss: 0.3440 - accuracy: 0.8103 - val_loss: 0.3608 - val_accuracy: 0.7808\n",
      "Epoch 10/100\n",
      "36/36 - 0s - loss: 0.3412 - accuracy: 0.8122 - val_loss: 0.3537 - val_accuracy: 0.8098\n",
      "Epoch 11/100\n",
      "36/36 - 0s - loss: 0.3397 - accuracy: 0.8136 - val_loss: 0.3689 - val_accuracy: 0.7942\n",
      "Epoch 12/100\n",
      "36/36 - 0s - loss: 0.3348 - accuracy: 0.8139 - val_loss: 0.3548 - val_accuracy: 0.7964\n"
     ]
    },
    {
     "data": {
      "text/plain": [
       "<tensorflow.python.keras.callbacks.History at 0x1b079c61f40>"
      ]
     },
     "execution_count": 3,
     "metadata": {},
     "output_type": "execute_result"
    }
   ],
   "source": [
    "#Outline model\n",
    "input_size = 10\n",
    "output_size = 2\n",
    "hidden_layer_size = 50\n",
    "\n",
    "model = tf.keras.Sequential([\n",
    "                            tf.keras.layers.Dense(hidden_layer_size, activation = 'relu'),\n",
    "                            tf.keras.layers.Dense(hidden_layer_size, activation = 'relu'),\n",
    "                            tf.keras.layers.Dense(output_size, activation = 'softmax')\n",
    "                            ])\n",
    "model.compile(optimizer='adam', loss='sparse_categorical_crossentropy', metrics=['accuracy'])\n",
    "\n",
    "batch_size = 100\n",
    "max_epochs = 100\n",
    "\n",
    "early_stopping = tf.keras.callbacks.EarlyStopping(patience=2)\n",
    "\n",
    "model.fit(train_inputs,\n",
    "         train_targets,\n",
    "         batch_size = batch_size,\n",
    "         epochs = max_epochs,\n",
    "         callbacks=[early_stopping],\n",
    "         validation_data=(validation_inputs, validation_targets),\n",
    "         verbose=2)"
   ]
  },
  {
   "cell_type": "code",
   "execution_count": 4,
   "metadata": {},
   "outputs": [
    {
     "name": "stdout",
     "output_type": "stream",
     "text": [
      "14/14 [==============================] - 0s 3ms/step - loss: 0.3453 - accuracy: 0.8125\n"
     ]
    }
   ],
   "source": [
    "#test the model\n",
    "test_loss, test_accuracy = model.evaluate(test_inputs, test_targets)"
   ]
  },
  {
   "cell_type": "code",
   "execution_count": 6,
   "metadata": {},
   "outputs": [
    {
     "name": "stdout",
     "output_type": "stream",
     "text": [
      "\n",
      "Test loss: 0.35. Test accuracy: 81.25%\n"
     ]
    }
   ],
   "source": [
    "print('\\nTest loss: {0:.2f}. Test accuracy: {1:.2f}%'.format(test_loss, test_accuracy*100.))"
   ]
  },
  {
   "cell_type": "code",
   "execution_count": null,
   "metadata": {},
   "outputs": [],
   "source": []
  }
 ],
 "metadata": {
  "kernelspec": {
   "display_name": "Python (TF2.0)",
   "language": "python",
   "name": "py3-tf2.0"
  },
  "language_info": {
   "codemirror_mode": {
    "name": "ipython",
    "version": 3
   },
   "file_extension": ".py",
   "mimetype": "text/x-python",
   "name": "python",
   "nbconvert_exporter": "python",
   "pygments_lexer": "ipython3",
   "version": "3.8.8"
  }
 },
 "nbformat": 4,
 "nbformat_minor": 4
}
