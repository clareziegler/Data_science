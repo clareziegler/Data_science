{
 "cells": [
  {
   "cell_type": "code",
   "execution_count": 1,
   "metadata": {},
   "outputs": [],
   "source": [
    "import numpy as np\n",
    "from sklearn import preprocessing\n"
   ]
  },
  {
   "cell_type": "code",
   "execution_count": 2,
   "metadata": {},
   "outputs": [],
   "source": [
    "#load the data\n",
    "raw_csv_data = np.loadtxt('./Downloads/Audiobooks_data.csv', delimiter = ',')\n",
    "\n",
    "unscaled_inputs_all = raw_csv_data[:, 1:-1]\n",
    "targets_all = raw_csv_data[:,-1]"
   ]
  },
  {
   "cell_type": "code",
   "execution_count": 3,
   "metadata": {},
   "outputs": [],
   "source": [
    "#Shuffle the data\n",
    "shuffled_indices = np.arange(unscaled_inputs_all.shape[0])\n",
    "np.random.shuffle(shuffled_indices)\n",
    "\n",
    "shuffled_unscaled_inputs = unscaled_inputs_all[shuffled_indices]\n",
    "shuffled_targets = targets_all[shuffled_indices]"
   ]
  },
  {
   "cell_type": "code",
   "execution_count": 4,
   "metadata": {},
   "outputs": [],
   "source": [
    "#Balance the dataset\n",
    "Num_ones_in_target = int(np.sum(shuffled_targets))\n",
    "counter = 0\n",
    "indices_to_remove = []\n",
    "\n",
    "for i in range(shuffled_targets.shape[0]):\n",
    "    counter = counter + 1\n",
    "    if shuffled_targets[i] == 0:\n",
    "        if counter > Num_ones_in_target:\n",
    "            indices_to_remove.append(i)\n",
    "            \n",
    "balanced_shuffled_inputs = np.delete(shuffled_unscaled_inputs,indices_to_remove,0)\n",
    "balanced_shuffled_targets = np.delete(shuffled_targets, indices_to_remove, 0)\n",
    "\n",
    "shuffled_indices = np.arange(balanced_shuffled_targets.shape[0])\n",
    "np.random.shuffle(shuffled_indices)\n",
    "\n",
    "balanced_shuffled_targets = balanced_shuffled_targets[shuffled_indices]"
   ]
  },
  {
   "cell_type": "code",
   "execution_count": 5,
   "metadata": {},
   "outputs": [],
   "source": [
    "#Scale the dataset\n",
    "scaled_inputs = preprocessing.scale(balanced_shuffled_inputs)"
   ]
  },
  {
   "cell_type": "code",
   "execution_count": 10,
   "metadata": {},
   "outputs": [
    {
     "name": "stdout",
     "output_type": "stream",
     "text": [
      "1790.0 3287 0.5445695162762397\n",
      "231.0 410 0.5634146341463414\n",
      "216.0 412 0.5242718446601942\n"
     ]
    }
   ],
   "source": [
    "#Split the dataset \n",
    "samples_count = scaled_inputs.shape[0]\n",
    "train_samples_count = int(0.8*samples_count)\n",
    "validation_samples_count = int(0.1*samples_count)\n",
    "test_samples_count = samples_count - train_samples_count - validation_samples_count\n",
    "\n",
    "train_inputs = scaled_inputs[:train_samples_count]\n",
    "validation_inputs = scaled_inputs[train_samples_count:train_samples_count + validation_samples_count]\n",
    "test_inputs = scaled_inputs[train_samples_count + validation_samples_count:]\n",
    "\n",
    "train_targets = balanced_shuffled_targets[:train_samples_count]\n",
    "validation_targets = balanced_shuffled_targets[train_samples_count:train_samples_count + validation_samples_count]\n",
    "test_targets = balanced_shuffled_targets[train_samples_count + validation_samples_count:]\n",
    "\n",
    "print(np.sum(train_targets), train_samples_count, np.sum(train_targets) / train_samples_count)\n",
    "print(np.sum(validation_targets), validation_samples_count, np.sum(validation_targets) / validation_samples_count)\n",
    "print(np.sum(test_targets), test_samples_count, np.sum(test_targets) / test_samples_count)"
   ]
  },
  {
   "cell_type": "code",
   "execution_count": 11,
   "metadata": {},
   "outputs": [],
   "source": [
    "#Save the datasets\n",
    "np.savez('Audiobooks_data_train', inputs = train_inputs, targets = train_targets)\n",
    "np.savez('Audiobooks_data_validation', inputs = validation_inputs, targets = validation_targets)\n",
    "np.savez('Audiobooks_data_test', inputs = test_inputs, targets = test_targets)"
   ]
  },
  {
   "cell_type": "code",
   "execution_count": null,
   "metadata": {},
   "outputs": [],
   "source": []
  }
 ],
 "metadata": {
  "kernelspec": {
   "display_name": "Python (TF2.0)",
   "language": "python",
   "name": "py3-tf2.0"
  },
  "language_info": {
   "codemirror_mode": {
    "name": "ipython",
    "version": 3
   },
   "file_extension": ".py",
   "mimetype": "text/x-python",
   "name": "python",
   "nbconvert_exporter": "python",
   "pygments_lexer": "ipython3",
   "version": "3.8.8"
  }
 },
 "nbformat": 4,
 "nbformat_minor": 4
}
